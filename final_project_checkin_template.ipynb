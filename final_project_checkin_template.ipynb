{
 "cells": [
  {
   "cell_type": "markdown",
   "metadata": {},
   "source": [
    "Final Project Check-in 2018-11-16\n",
    "------"
   ]
  },
  {
   "cell_type": "markdown",
   "metadata": {},
   "source": [
    "Group Name\n",
    "-----"
   ]
  },
  {
   "cell_type": "markdown",
   "metadata": {},
   "source": [
    " Bean Solution"
   ]
  },
  {
   "cell_type": "markdown",
   "metadata": {},
   "source": [
    "Student Names\n",
    "----"
   ]
  },
  {
   "cell_type": "markdown",
   "metadata": {},
   "source": [
    "1. Xin Sun\n",
    "2. Zhi Li\n",
    "3. Minchen Wang\n",
    "4. Hongdou Li\n",
    "5. Bowen Ma"
   ]
  },
  {
   "cell_type": "markdown",
   "metadata": {},
   "source": [
    "Load Data\n",
    "-----"
   ]
  },
  {
   "cell_type": "code",
   "execution_count": 1,
   "metadata": {},
   "outputs": [],
   "source": [
    "import pandas as pd\n",
    "import numpy as np\n",
    "import matplotlib.pyplot as plt\n",
    "import time \n",
    "import datetime\n",
    "import scipy.stats"
   ]
  },
  {
   "cell_type": "code",
   "execution_count": 2,
   "metadata": {},
   "outputs": [
    {
     "data": {
      "text/html": [
       "<div>\n",
       "<style scoped>\n",
       "    .dataframe tbody tr th:only-of-type {\n",
       "        vertical-align: middle;\n",
       "    }\n",
       "\n",
       "    .dataframe tbody tr th {\n",
       "        vertical-align: top;\n",
       "    }\n",
       "\n",
       "    .dataframe thead th {\n",
       "        text-align: right;\n",
       "    }\n",
       "</style>\n",
       "<table border=\"1\" class=\"dataframe\">\n",
       "  <thead>\n",
       "    <tr style=\"text-align: right;\">\n",
       "      <th></th>\n",
       "      <th>Unnamed: 0</th>\n",
       "      <th>bidder_id</th>\n",
       "      <th>payment_account</th>\n",
       "      <th>address</th>\n",
       "      <th>outcome</th>\n",
       "      <th>bid_id</th>\n",
       "      <th>auction</th>\n",
       "      <th>merchandise</th>\n",
       "      <th>device</th>\n",
       "      <th>time</th>\n",
       "      <th>country</th>\n",
       "      <th>ip</th>\n",
       "      <th>url</th>\n",
       "    </tr>\n",
       "  </thead>\n",
       "  <tbody>\n",
       "    <tr>\n",
       "      <th>0</th>\n",
       "      <td>1</td>\n",
       "      <td>001068c415025a009fee375a12cff4fcnht8y</td>\n",
       "      <td>a3d2de7675556553a5f08e4c88d2c228iiasc</td>\n",
       "      <td>a3d2de7675556553a5f08e4c88d2c2282aj35</td>\n",
       "      <td>0</td>\n",
       "      <td>7179832.0</td>\n",
       "      <td>4ifac</td>\n",
       "      <td>jewelry</td>\n",
       "      <td>phone561</td>\n",
       "      <td>9.706345e+15</td>\n",
       "      <td>bn</td>\n",
       "      <td>139.226.147.115</td>\n",
       "      <td>vasstdc27m7nks3</td>\n",
       "    </tr>\n",
       "    <tr>\n",
       "      <th>1</th>\n",
       "      <td>2</td>\n",
       "      <td>0030a2dd87ad2733e0873062e4f83954mkj86</td>\n",
       "      <td>a3d2de7675556553a5f08e4c88d2c228jem8t</td>\n",
       "      <td>f3bc67b04b43c3cebd1db5ed4941874c9br67</td>\n",
       "      <td>0</td>\n",
       "      <td>6805028.0</td>\n",
       "      <td>obbny</td>\n",
       "      <td>mobile</td>\n",
       "      <td>phone313</td>\n",
       "      <td>9.704554e+15</td>\n",
       "      <td>ir</td>\n",
       "      <td>21.67.17.162</td>\n",
       "      <td>vnw40k8zzokijsv</td>\n",
       "    </tr>\n",
       "    <tr>\n",
       "      <th>2</th>\n",
       "      <td>3</td>\n",
       "      <td>00a0517965f18610417ee784a05f494d4dw6e</td>\n",
       "      <td>52743ba515e9c1279ac76e19f00c0b001p3pm</td>\n",
       "      <td>7578f951008bd0b64528bf81b8578d5djy0uy</td>\n",
       "      <td>0</td>\n",
       "      <td>4574244.0</td>\n",
       "      <td>gst86</td>\n",
       "      <td>books and music</td>\n",
       "      <td>phone1400</td>\n",
       "      <td>9.642087e+15</td>\n",
       "      <td>ng</td>\n",
       "      <td>160.114.155.198</td>\n",
       "      <td>utvvayoovsqfycf</td>\n",
       "    </tr>\n",
       "    <tr>\n",
       "      <th>3</th>\n",
       "      <td>4</td>\n",
       "      <td>00a0517965f18610417ee784a05f494d4dw6e</td>\n",
       "      <td>52743ba515e9c1279ac76e19f00c0b001p3pm</td>\n",
       "      <td>7578f951008bd0b64528bf81b8578d5djy0uy</td>\n",
       "      <td>0</td>\n",
       "      <td>7525691.0</td>\n",
       "      <td>b25ls</td>\n",
       "      <td>books and music</td>\n",
       "      <td>phone142</td>\n",
       "      <td>9.708597e+15</td>\n",
       "      <td>in</td>\n",
       "      <td>210.227.213.71</td>\n",
       "      <td>wxmtewnifm8v3kb</td>\n",
       "    </tr>\n",
       "    <tr>\n",
       "      <th>4</th>\n",
       "      <td>5</td>\n",
       "      <td>00a0517965f18610417ee784a05f494d4dw6e</td>\n",
       "      <td>52743ba515e9c1279ac76e19f00c0b001p3pm</td>\n",
       "      <td>7578f951008bd0b64528bf81b8578d5djy0uy</td>\n",
       "      <td>0</td>\n",
       "      <td>6511001.0</td>\n",
       "      <td>1cbiu</td>\n",
       "      <td>books and music</td>\n",
       "      <td>phone25</td>\n",
       "      <td>9.702977e+15</td>\n",
       "      <td>in</td>\n",
       "      <td>86.245.94.173</td>\n",
       "      <td>q7mzsnjxikn3tq3</td>\n",
       "    </tr>\n",
       "  </tbody>\n",
       "</table>\n",
       "</div>"
      ],
      "text/plain": [
       "   Unnamed: 0                              bidder_id  \\\n",
       "0           1  001068c415025a009fee375a12cff4fcnht8y   \n",
       "1           2  0030a2dd87ad2733e0873062e4f83954mkj86   \n",
       "2           3  00a0517965f18610417ee784a05f494d4dw6e   \n",
       "3           4  00a0517965f18610417ee784a05f494d4dw6e   \n",
       "4           5  00a0517965f18610417ee784a05f494d4dw6e   \n",
       "\n",
       "                         payment_account  \\\n",
       "0  a3d2de7675556553a5f08e4c88d2c228iiasc   \n",
       "1  a3d2de7675556553a5f08e4c88d2c228jem8t   \n",
       "2  52743ba515e9c1279ac76e19f00c0b001p3pm   \n",
       "3  52743ba515e9c1279ac76e19f00c0b001p3pm   \n",
       "4  52743ba515e9c1279ac76e19f00c0b001p3pm   \n",
       "\n",
       "                                 address  outcome     bid_id auction  \\\n",
       "0  a3d2de7675556553a5f08e4c88d2c2282aj35        0  7179832.0   4ifac   \n",
       "1  f3bc67b04b43c3cebd1db5ed4941874c9br67        0  6805028.0   obbny   \n",
       "2  7578f951008bd0b64528bf81b8578d5djy0uy        0  4574244.0   gst86   \n",
       "3  7578f951008bd0b64528bf81b8578d5djy0uy        0  7525691.0   b25ls   \n",
       "4  7578f951008bd0b64528bf81b8578d5djy0uy        0  6511001.0   1cbiu   \n",
       "\n",
       "       merchandise     device          time country               ip  \\\n",
       "0          jewelry   phone561  9.706345e+15      bn  139.226.147.115   \n",
       "1           mobile   phone313  9.704554e+15      ir     21.67.17.162   \n",
       "2  books and music  phone1400  9.642087e+15      ng  160.114.155.198   \n",
       "3  books and music   phone142  9.708597e+15      in   210.227.213.71   \n",
       "4  books and music    phone25  9.702977e+15      in    86.245.94.173   \n",
       "\n",
       "               url  \n",
       "0  vasstdc27m7nks3  \n",
       "1  vnw40k8zzokijsv  \n",
       "2  utvvayoovsqfycf  \n",
       "3  wxmtewnifm8v3kb  \n",
       "4  q7mzsnjxikn3tq3  "
      ]
     },
     "execution_count": 2,
     "metadata": {},
     "output_type": "execute_result"
    }
   ],
   "source": [
    "data = pd.read_csv(\"bid.csv\")\n",
    "data.head()"
   ]
  },
  {
   "cell_type": "markdown",
   "metadata": {},
   "source": [
    "### Data Clean"
   ]
  },
  {
   "cell_type": "code",
   "execution_count": 3,
   "metadata": {},
   "outputs": [],
   "source": [
    "# for all the missing value observation, drop it\n",
    "bid = data.dropna()"
   ]
  },
  {
   "cell_type": "markdown",
   "metadata": {},
   "source": [
    "### Feature Creation"
   ]
  },
  {
   "cell_type": "code",
   "execution_count": 5,
   "metadata": {},
   "outputs": [],
   "source": [
    "# bidding time difference per user (bidder_id) (done)\n",
    "bid = bid.sort_values(by=['time'])\n",
    "bid['timediffs'] = bid.groupby('bidder_id')['time'].transform(pd.Series.diff)\n",
    "\n",
    "# number of bids a user made per auction (done)\n",
    "bids_per_auction  = bid.groupby(['auction','bidder_id']).size()\n",
    "bids_per_auction = bids_per_auction.to_frame()\n",
    "\n",
    "# proportion of bots for each country\n",
    "pbots_country = bid[bid['outcome'] == 1].groupby('country').size()/bid.groupby('country').size() \n",
    "pbots_country = pbots_country.fillna(0)\n",
    "pbots_country = pbots_country.to_frame()\n",
    "\n",
    "# proportion of bots per device\n",
    "pbots_device = bid[bid['outcome'] == 1].groupby('device').size()/bid.groupby('device').size()\n",
    "pbots_device = pbots_device.fillna(0)\n",
    "pbots_device = pbots_device.to_frame()\n",
    "\n",
    "# average number of bids per url per user\n",
    "\n",
    "# number of unique ip to number of bids ratio\n",
    "ip_bids_ratio = bid.groupby('bidder_id')['ip'].nunique()/bid.groupby('bidder_id')['bid_id'].nunique()\n",
    "#bid[['bidder_id', 'ip']].drop_duplicates().groupby('bidder_id').size()/bid.groupby('bidder_id').size()\n",
    "ip_bids_ratio = ip_bids_ratio.to_frame()\n",
    "\n",
    "# mean per auction url entropy for each user\n",
    "# Input a pandas series \n",
    "def ent(data):\n",
    "    p_data= data.value_counts()/len(data) # calculates the probabilities\n",
    "    entropy=scipy.stats.entropy(p_data)  # input probabilities to get the entropy \n",
    "    return entropy\n",
    "\n",
    "auction_url_entropy = bid.groupby(['auction','bidder_id'])['url'].apply(ent)\n",
    "#auction_url_entropy = auction_url_entropy.to_frame().reset_index()\n",
    "auction_url_entropy = auction_url_entropy.groupby('bidder_id').mean().reset_index()"
   ]
  },
  {
   "cell_type": "code",
   "execution_count": 6,
   "metadata": {},
   "outputs": [],
   "source": [
    "# merge the features back\n",
    "bid = pd.merge(bid,bids_per_auction, on=['auction','bidder_id'],how='left')\n",
    "bid = pd.merge(bid,pbots_country, on='country',how='left')\n",
    "bid = pd.merge(bid,pbots_device, on='device',how='left')\n",
    "bid = pd.merge(bid,ip_bids_ratio, on='bidder_id',how='left')\n",
    "bid = pd.merge(bid,auction_url_entropy,on='bidder_id',how='left')\n",
    "# set column names \n",
    "bid.columns = ['Unnamed: 0', 'bidder_id', 'payment_account', 'address', 'outcome',\n",
    "       'bid_id', 'auction', 'merchandise', 'device', 'time', 'country',\n",
    "       'ip', 'url', 'timediffs', 'bids_per_auction', 'pbots_country', 'pbots_device', \n",
    "               'ip_bids_ratio','auction_url_entropy']"
   ]
  },
  {
   "cell_type": "markdown",
   "metadata": {},
   "source": [
    "### Under Sampling"
   ]
  },
  {
   "cell_type": "code",
   "execution_count": null,
   "metadata": {},
   "outputs": [],
   "source": [
    "bots = bid.loc[bid.outcome == 1]\n",
    "human = bid.loc[bid.outcome == 0]\n",
    "human_sample = human.sample(n=len(bots),random_state=99)\n",
    "bid_balance = pd.concat([bots,human_sample])"
   ]
  },
  {
   "cell_type": "code",
   "execution_count": null,
   "metadata": {},
   "outputs": [],
   "source": [
    "bid_balance = bid_balance.dropna()"
   ]
  },
  {
   "cell_type": "markdown",
   "metadata": {},
   "source": [
    "Fit scikit-learn model\n",
    "----"
   ]
  },
  {
   "cell_type": "code",
   "execution_count": null,
   "metadata": {},
   "outputs": [],
   "source": [
    "# Train test split\n",
    "y = bid_balance['outcome']\n",
    "X = bid_balance.iloc[:,-6:]\n",
    "X_train, X_test, y_train, y_test = train_test_split( X, y, test_size=0.2, random_state=42)"
   ]
  },
  {
   "cell_type": "code",
   "execution_count": null,
   "metadata": {},
   "outputs": [],
   "source": [
    "# fit the model\n",
    "# Decision Tree\n",
    "kwargs_regularize = dict(criterion='gini',\n",
    "                         max_depth=4, \n",
    "                         min_\n",
    "                         min_samples_split=10)\n",
    "clf = tree.DecisionTreeClassifier(**kwargs_regularize)\n",
    "clf.fit(X_train,y_train)"
   ]
  },
  {
   "cell_type": "code",
   "execution_count": null,
   "metadata": {},
   "outputs": [],
   "source": [
    "from sklearn.externals.six import StringIO  \n",
    "from IPython.display import Image \n",
    "from sklearn.tree import export_graphviz\n",
    "import pydotplus\n",
    "dot_data = StringIO()\n",
    "tree.export_graphviz(clf, out_file=dot_data, \n",
    "                         filled=True, rounded=True,\n",
    "                     feature_names=X.columns.values,\n",
    "                     class_names = ['human','bot'],\n",
    "                         special_characters=True)  \n",
    "graph = pydotplus.graph_from_dot_data(dot_data.getvalue())  \n",
    "Image(graph.create_png())"
   ]
  },
  {
   "cell_type": "markdown",
   "metadata": {},
   "source": [
    "Evaluation Metric\n",
    "----"
   ]
  },
  {
   "cell_type": "code",
   "execution_count": null,
   "metadata": {},
   "outputs": [],
   "source": [
    "# predict\n",
    "predicted = clf.predict(X_test)"
   ]
  },
  {
   "cell_type": "code",
   "execution_count": null,
   "metadata": {},
   "outputs": [],
   "source": [
    "# score\n",
    "print(f\"Accuracy: {accuracy_score(predicted, y_test):.3f}\")"
   ]
  }
 ],
 "metadata": {
  "kernelspec": {
   "display_name": "Python 3",
   "language": "python",
   "name": "python3"
  },
  "language_info": {
   "codemirror_mode": {
    "name": "ipython",
    "version": 3
   },
   "file_extension": ".py",
   "mimetype": "text/x-python",
   "name": "python",
   "nbconvert_exporter": "python",
   "pygments_lexer": "ipython3",
   "version": "3.6.4"
  }
 },
 "nbformat": 4,
 "nbformat_minor": 2
}
