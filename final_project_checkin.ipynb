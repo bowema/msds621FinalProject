{
 "cells": [
  {
   "cell_type": "markdown",
   "metadata": {},
   "source": [
    "# Final Project"
   ]
  },
  {
   "cell_type": "markdown",
   "metadata": {},
   "source": [
    "## Imports"
   ]
  },
  {
   "cell_type": "code",
   "execution_count": 1,
   "metadata": {},
   "outputs": [],
   "source": [
    "# for data manipulation\n",
    "import pandas as pd\n",
    "import numpy as np"
   ]
  },
  {
   "cell_type": "code",
   "execution_count": 2,
   "metadata": {},
   "outputs": [],
   "source": [
    "# data visualization package\n",
    "import matplotlib.pyplot as plt\n",
    "import seaborn as sns"
   ]
  },
  {
   "cell_type": "code",
   "execution_count": 3,
   "metadata": {},
   "outputs": [],
   "source": [
    "# for feature engineering\n",
    "import time \n",
    "import datetime\n",
    "import scipy.stats"
   ]
  },
  {
   "cell_type": "code",
   "execution_count": 4,
   "metadata": {},
   "outputs": [],
   "source": [
    "# for train and test data set split\n",
    "from sklearn.model_selection import train_test_split\n",
    "\n",
    "# for grid search\n",
    "from sklearn.model_selection import GridSearchCV\n",
    "from sklearn.model_selection import RandomizedSearchCV\n",
    "\n",
    "# for evaluation metric\n",
    "# accuracy\n",
    "from sklearn.metrics import accuracy_score\n",
    "# Report\n",
    "from sklearn.metrics import classification_report\n",
    "# AUC\n",
    "from sklearn.metrics import roc_curve, auc\n",
    "from sklearn.metrics import confusion_matrix\n",
    "from sklearn.metrics import classification_report\n",
    "from pylab import rcParams\n",
    "\n",
    "# for model comparision\n",
    "from sklearn import metrics"
   ]
  },
  {
   "cell_type": "code",
   "execution_count": 5,
   "metadata": {},
   "outputs": [],
   "source": [
    "# for decision tree model\n",
    "from sklearn import tree\n",
    "\n",
    "# for decision tree visualizaiton\n",
    "from sklearn.externals.six import StringIO  \n",
    "from IPython.display import Image \n",
    "from sklearn.tree import export_graphviz\n",
    "import pydotplus\n",
    "\n",
    "# for gradient boosting\n",
    "from sklearn.ensemble import GradientBoostingClassifier\n",
    "\n",
    "# for random search\n",
    "from sklearn.ensemble import RandomForestClassifier"
   ]
  },
  {
   "cell_type": "markdown",
   "metadata": {},
   "source": [
    "## Preprocess Data"
   ]
  },
  {
   "cell_type": "markdown",
   "metadata": {},
   "source": [
    "### Load and Join Data"
   ]
  },
  {
   "cell_type": "code",
   "execution_count": 5,
   "metadata": {},
   "outputs": [],
   "source": [
    "# load inital data\n",
    "bids = pd.read_csv(\"bids.csv\")\n",
    "bidders = pd.read_csv(\"train.csv\")"
   ]
  },
  {
   "cell_type": "code",
   "execution_count": 5,
   "metadata": {},
   "outputs": [
    {
     "data": {
      "text/html": [
       "<div>\n",
       "<style scoped>\n",
       "    .dataframe tbody tr th:only-of-type {\n",
       "        vertical-align: middle;\n",
       "    }\n",
       "\n",
       "    .dataframe tbody tr th {\n",
       "        vertical-align: top;\n",
       "    }\n",
       "\n",
       "    .dataframe thead th {\n",
       "        text-align: right;\n",
       "    }\n",
       "</style>\n",
       "<table border=\"1\" class=\"dataframe\">\n",
       "  <thead>\n",
       "    <tr style=\"text-align: right;\">\n",
       "      <th></th>\n",
       "      <th>bid_id</th>\n",
       "      <th>bidder_id</th>\n",
       "      <th>auction</th>\n",
       "      <th>merchandise</th>\n",
       "      <th>device</th>\n",
       "      <th>time</th>\n",
       "      <th>country</th>\n",
       "      <th>ip</th>\n",
       "      <th>url</th>\n",
       "    </tr>\n",
       "  </thead>\n",
       "  <tbody>\n",
       "    <tr>\n",
       "      <th>0</th>\n",
       "      <td>0</td>\n",
       "      <td>8dac2b259fd1c6d1120e519fb1ac14fbqvax8</td>\n",
       "      <td>ewmzr</td>\n",
       "      <td>jewelry</td>\n",
       "      <td>phone0</td>\n",
       "      <td>9759243157894736</td>\n",
       "      <td>us</td>\n",
       "      <td>69.166.231.58</td>\n",
       "      <td>vasstdc27m7nks3</td>\n",
       "    </tr>\n",
       "    <tr>\n",
       "      <th>1</th>\n",
       "      <td>1</td>\n",
       "      <td>668d393e858e8126275433046bbd35c6tywop</td>\n",
       "      <td>aeqok</td>\n",
       "      <td>furniture</td>\n",
       "      <td>phone1</td>\n",
       "      <td>9759243157894736</td>\n",
       "      <td>in</td>\n",
       "      <td>50.201.125.84</td>\n",
       "      <td>jmqlhflrzwuay9c</td>\n",
       "    </tr>\n",
       "    <tr>\n",
       "      <th>2</th>\n",
       "      <td>2</td>\n",
       "      <td>aa5f360084278b35d746fa6af3a7a1a5ra3xe</td>\n",
       "      <td>wa00e</td>\n",
       "      <td>home goods</td>\n",
       "      <td>phone2</td>\n",
       "      <td>9759243157894736</td>\n",
       "      <td>py</td>\n",
       "      <td>112.54.208.157</td>\n",
       "      <td>vasstdc27m7nks3</td>\n",
       "    </tr>\n",
       "    <tr>\n",
       "      <th>3</th>\n",
       "      <td>3</td>\n",
       "      <td>3939ac3ef7d472a59a9c5f893dd3e39fh9ofi</td>\n",
       "      <td>jefix</td>\n",
       "      <td>jewelry</td>\n",
       "      <td>phone4</td>\n",
       "      <td>9759243157894736</td>\n",
       "      <td>in</td>\n",
       "      <td>18.99.175.133</td>\n",
       "      <td>vasstdc27m7nks3</td>\n",
       "    </tr>\n",
       "    <tr>\n",
       "      <th>4</th>\n",
       "      <td>4</td>\n",
       "      <td>8393c48eaf4b8fa96886edc7cf27b372dsibi</td>\n",
       "      <td>jefix</td>\n",
       "      <td>jewelry</td>\n",
       "      <td>phone5</td>\n",
       "      <td>9759243157894736</td>\n",
       "      <td>in</td>\n",
       "      <td>145.138.5.37</td>\n",
       "      <td>vasstdc27m7nks3</td>\n",
       "    </tr>\n",
       "  </tbody>\n",
       "</table>\n",
       "</div>"
      ],
      "text/plain": [
       "   bid_id                              bidder_id auction merchandise  device  \\\n",
       "0       0  8dac2b259fd1c6d1120e519fb1ac14fbqvax8   ewmzr     jewelry  phone0   \n",
       "1       1  668d393e858e8126275433046bbd35c6tywop   aeqok   furniture  phone1   \n",
       "2       2  aa5f360084278b35d746fa6af3a7a1a5ra3xe   wa00e  home goods  phone2   \n",
       "3       3  3939ac3ef7d472a59a9c5f893dd3e39fh9ofi   jefix     jewelry  phone4   \n",
       "4       4  8393c48eaf4b8fa96886edc7cf27b372dsibi   jefix     jewelry  phone5   \n",
       "\n",
       "               time country              ip              url  \n",
       "0  9759243157894736      us   69.166.231.58  vasstdc27m7nks3  \n",
       "1  9759243157894736      in   50.201.125.84  jmqlhflrzwuay9c  \n",
       "2  9759243157894736      py  112.54.208.157  vasstdc27m7nks3  \n",
       "3  9759243157894736      in   18.99.175.133  vasstdc27m7nks3  \n",
       "4  9759243157894736      in    145.138.5.37  vasstdc27m7nks3  "
      ]
     },
     "execution_count": 5,
     "metadata": {},
     "output_type": "execute_result"
    }
   ],
   "source": [
    "bids.head()"
   ]
  },
  {
   "cell_type": "code",
   "execution_count": 6,
   "metadata": {},
   "outputs": [
    {
     "data": {
      "text/html": [
       "<div>\n",
       "<style scoped>\n",
       "    .dataframe tbody tr th:only-of-type {\n",
       "        vertical-align: middle;\n",
       "    }\n",
       "\n",
       "    .dataframe tbody tr th {\n",
       "        vertical-align: top;\n",
       "    }\n",
       "\n",
       "    .dataframe thead th {\n",
       "        text-align: right;\n",
       "    }\n",
       "</style>\n",
       "<table border=\"1\" class=\"dataframe\">\n",
       "  <thead>\n",
       "    <tr style=\"text-align: right;\">\n",
       "      <th></th>\n",
       "      <th>bidder_id</th>\n",
       "      <th>payment_account</th>\n",
       "      <th>address</th>\n",
       "      <th>outcome</th>\n",
       "    </tr>\n",
       "  </thead>\n",
       "  <tbody>\n",
       "    <tr>\n",
       "      <th>0</th>\n",
       "      <td>91a3c57b13234af24875c56fb7e2b2f4rb56a</td>\n",
       "      <td>a3d2de7675556553a5f08e4c88d2c228754av</td>\n",
       "      <td>a3d2de7675556553a5f08e4c88d2c228vt0u4</td>\n",
       "      <td>0.0</td>\n",
       "    </tr>\n",
       "    <tr>\n",
       "      <th>1</th>\n",
       "      <td>624f258b49e77713fc34034560f93fb3hu3jo</td>\n",
       "      <td>a3d2de7675556553a5f08e4c88d2c228v1sga</td>\n",
       "      <td>ae87054e5a97a8f840a3991d12611fdcrfbq3</td>\n",
       "      <td>0.0</td>\n",
       "    </tr>\n",
       "    <tr>\n",
       "      <th>2</th>\n",
       "      <td>1c5f4fc669099bfbfac515cd26997bd12ruaj</td>\n",
       "      <td>a3d2de7675556553a5f08e4c88d2c2280cybl</td>\n",
       "      <td>92520288b50f03907041887884ba49c0cl0pd</td>\n",
       "      <td>0.0</td>\n",
       "    </tr>\n",
       "    <tr>\n",
       "      <th>3</th>\n",
       "      <td>4bee9aba2abda51bf43d639013d6efe12iycd</td>\n",
       "      <td>51d80e233f7b6a7dfdee484a3c120f3b2ita8</td>\n",
       "      <td>4cb9717c8ad7e88a9a284989dd79b98dbevyi</td>\n",
       "      <td>0.0</td>\n",
       "    </tr>\n",
       "    <tr>\n",
       "      <th>4</th>\n",
       "      <td>4ab12bc61c82ddd9c2d65e60555808acqgos1</td>\n",
       "      <td>a3d2de7675556553a5f08e4c88d2c22857ddh</td>\n",
       "      <td>2a96c3ce94b3be921e0296097b88b56a7x1ji</td>\n",
       "      <td>0.0</td>\n",
       "    </tr>\n",
       "  </tbody>\n",
       "</table>\n",
       "</div>"
      ],
      "text/plain": [
       "                               bidder_id  \\\n",
       "0  91a3c57b13234af24875c56fb7e2b2f4rb56a   \n",
       "1  624f258b49e77713fc34034560f93fb3hu3jo   \n",
       "2  1c5f4fc669099bfbfac515cd26997bd12ruaj   \n",
       "3  4bee9aba2abda51bf43d639013d6efe12iycd   \n",
       "4  4ab12bc61c82ddd9c2d65e60555808acqgos1   \n",
       "\n",
       "                         payment_account  \\\n",
       "0  a3d2de7675556553a5f08e4c88d2c228754av   \n",
       "1  a3d2de7675556553a5f08e4c88d2c228v1sga   \n",
       "2  a3d2de7675556553a5f08e4c88d2c2280cybl   \n",
       "3  51d80e233f7b6a7dfdee484a3c120f3b2ita8   \n",
       "4  a3d2de7675556553a5f08e4c88d2c22857ddh   \n",
       "\n",
       "                                 address  outcome  \n",
       "0  a3d2de7675556553a5f08e4c88d2c228vt0u4      0.0  \n",
       "1  ae87054e5a97a8f840a3991d12611fdcrfbq3      0.0  \n",
       "2  92520288b50f03907041887884ba49c0cl0pd      0.0  \n",
       "3  4cb9717c8ad7e88a9a284989dd79b98dbevyi      0.0  \n",
       "4  2a96c3ce94b3be921e0296097b88b56a7x1ji      0.0  "
      ]
     },
     "execution_count": 6,
     "metadata": {},
     "output_type": "execute_result"
    }
   ],
   "source": [
    "bidders.head()"
   ]
  },
  {
   "cell_type": "markdown",
   "metadata": {},
   "source": [
    "The datasets are provided by two part:\n",
    "* `train.csv`: the base bidder dataset with labels. Besides label, it also contains unique `bidder_id` followed with `payment_account`, `address` and `outcome`;\n",
    "* `bids.csv`: the dataset contains some more useful information associated with unique `bidder_id`, including `auction`, `merchandise`, `device`, `time`, `country`, `ip`, and `url`. `time` and `url` are encrypted information.\n",
    "\n",
    "Since both of these two files contains the unique key `bidder_id`, we firstly joined these data by this key. Our object is to try to find each bid is made by a human or robot, thus, we only consider the data which have bids information and labelled. We will left join on `train.csv` and check the joined data for missing bids information."
   ]
  },
  {
   "cell_type": "code",
   "execution_count": 7,
   "metadata": {},
   "outputs": [],
   "source": [
    "# join the training data set with full data set\n",
    "bid = pd.merge(bidder, bids, on='bidder_id', how='left')"
   ]
  },
  {
   "cell_type": "code",
   "execution_count": 8,
   "metadata": {},
   "outputs": [],
   "source": [
    "# write to file\n",
    "bid.to_csv(\"bid.csv\")"
   ]
  },
  {
   "cell_type": "markdown",
   "metadata": {},
   "source": [
    "### Load Joined Data"
   ]
  },
  {
   "cell_type": "code",
   "execution_count": 6,
   "metadata": {},
   "outputs": [
    {
     "data": {
      "text/html": [
       "<div>\n",
       "<style scoped>\n",
       "    .dataframe tbody tr th:only-of-type {\n",
       "        vertical-align: middle;\n",
       "    }\n",
       "\n",
       "    .dataframe tbody tr th {\n",
       "        vertical-align: top;\n",
       "    }\n",
       "\n",
       "    .dataframe thead th {\n",
       "        text-align: right;\n",
       "    }\n",
       "</style>\n",
       "<table border=\"1\" class=\"dataframe\">\n",
       "  <thead>\n",
       "    <tr style=\"text-align: right;\">\n",
       "      <th></th>\n",
       "      <th>Unnamed: 0</th>\n",
       "      <th>bidder_id</th>\n",
       "      <th>payment_account</th>\n",
       "      <th>address</th>\n",
       "      <th>outcome</th>\n",
       "      <th>bid_id</th>\n",
       "      <th>auction</th>\n",
       "      <th>merchandise</th>\n",
       "      <th>device</th>\n",
       "      <th>time</th>\n",
       "      <th>country</th>\n",
       "      <th>ip</th>\n",
       "      <th>url</th>\n",
       "    </tr>\n",
       "  </thead>\n",
       "  <tbody>\n",
       "    <tr>\n",
       "      <th>0</th>\n",
       "      <td>0</td>\n",
       "      <td>91a3c57b13234af24875c56fb7e2b2f4rb56a</td>\n",
       "      <td>a3d2de7675556553a5f08e4c88d2c228754av</td>\n",
       "      <td>a3d2de7675556553a5f08e4c88d2c228vt0u4</td>\n",
       "      <td>0.0</td>\n",
       "      <td>85371.0</td>\n",
       "      <td>yitr4</td>\n",
       "      <td>home goods</td>\n",
       "      <td>phone35</td>\n",
       "      <td>9.759489e+15</td>\n",
       "      <td>ke</td>\n",
       "      <td>82.34.177.248</td>\n",
       "      <td>vasstdc27m7nks3</td>\n",
       "    </tr>\n",
       "    <tr>\n",
       "      <th>1</th>\n",
       "      <td>1</td>\n",
       "      <td>91a3c57b13234af24875c56fb7e2b2f4rb56a</td>\n",
       "      <td>a3d2de7675556553a5f08e4c88d2c228754av</td>\n",
       "      <td>a3d2de7675556553a5f08e4c88d2c228vt0u4</td>\n",
       "      <td>0.0</td>\n",
       "      <td>274487.0</td>\n",
       "      <td>btpyy</td>\n",
       "      <td>home goods</td>\n",
       "      <td>phone1004</td>\n",
       "      <td>9.760249e+15</td>\n",
       "      <td>zm</td>\n",
       "      <td>202.130.71.167</td>\n",
       "      <td>vasstdc27m7nks3</td>\n",
       "    </tr>\n",
       "    <tr>\n",
       "      <th>2</th>\n",
       "      <td>2</td>\n",
       "      <td>91a3c57b13234af24875c56fb7e2b2f4rb56a</td>\n",
       "      <td>a3d2de7675556553a5f08e4c88d2c228754av</td>\n",
       "      <td>a3d2de7675556553a5f08e4c88d2c228vt0u4</td>\n",
       "      <td>0.0</td>\n",
       "      <td>527436.0</td>\n",
       "      <td>kj2ko</td>\n",
       "      <td>home goods</td>\n",
       "      <td>phone4</td>\n",
       "      <td>9.762261e+15</td>\n",
       "      <td>ke</td>\n",
       "      <td>22.54.76.225</td>\n",
       "      <td>vasstdc27m7nks3</td>\n",
       "    </tr>\n",
       "    <tr>\n",
       "      <th>3</th>\n",
       "      <td>3</td>\n",
       "      <td>91a3c57b13234af24875c56fb7e2b2f4rb56a</td>\n",
       "      <td>a3d2de7675556553a5f08e4c88d2c228754av</td>\n",
       "      <td>a3d2de7675556553a5f08e4c88d2c228vt0u4</td>\n",
       "      <td>0.0</td>\n",
       "      <td>554135.0</td>\n",
       "      <td>1m5t8</td>\n",
       "      <td>home goods</td>\n",
       "      <td>phone4</td>\n",
       "      <td>9.762431e+15</td>\n",
       "      <td>ke</td>\n",
       "      <td>32.13.237.126</td>\n",
       "      <td>vasstdc27m7nks3</td>\n",
       "    </tr>\n",
       "    <tr>\n",
       "      <th>4</th>\n",
       "      <td>4</td>\n",
       "      <td>91a3c57b13234af24875c56fb7e2b2f4rb56a</td>\n",
       "      <td>a3d2de7675556553a5f08e4c88d2c228754av</td>\n",
       "      <td>a3d2de7675556553a5f08e4c88d2c228vt0u4</td>\n",
       "      <td>0.0</td>\n",
       "      <td>607628.0</td>\n",
       "      <td>btpyy</td>\n",
       "      <td>home goods</td>\n",
       "      <td>phone4</td>\n",
       "      <td>9.762789e+15</td>\n",
       "      <td>ke</td>\n",
       "      <td>202.236.188.240</td>\n",
       "      <td>vasstdc27m7nks3</td>\n",
       "    </tr>\n",
       "  </tbody>\n",
       "</table>\n",
       "</div>"
      ],
      "text/plain": [
       "   Unnamed: 0                              bidder_id  \\\n",
       "0           0  91a3c57b13234af24875c56fb7e2b2f4rb56a   \n",
       "1           1  91a3c57b13234af24875c56fb7e2b2f4rb56a   \n",
       "2           2  91a3c57b13234af24875c56fb7e2b2f4rb56a   \n",
       "3           3  91a3c57b13234af24875c56fb7e2b2f4rb56a   \n",
       "4           4  91a3c57b13234af24875c56fb7e2b2f4rb56a   \n",
       "\n",
       "                         payment_account  \\\n",
       "0  a3d2de7675556553a5f08e4c88d2c228754av   \n",
       "1  a3d2de7675556553a5f08e4c88d2c228754av   \n",
       "2  a3d2de7675556553a5f08e4c88d2c228754av   \n",
       "3  a3d2de7675556553a5f08e4c88d2c228754av   \n",
       "4  a3d2de7675556553a5f08e4c88d2c228754av   \n",
       "\n",
       "                                 address  outcome    bid_id auction  \\\n",
       "0  a3d2de7675556553a5f08e4c88d2c228vt0u4      0.0   85371.0   yitr4   \n",
       "1  a3d2de7675556553a5f08e4c88d2c228vt0u4      0.0  274487.0   btpyy   \n",
       "2  a3d2de7675556553a5f08e4c88d2c228vt0u4      0.0  527436.0   kj2ko   \n",
       "3  a3d2de7675556553a5f08e4c88d2c228vt0u4      0.0  554135.0   1m5t8   \n",
       "4  a3d2de7675556553a5f08e4c88d2c228vt0u4      0.0  607628.0   btpyy   \n",
       "\n",
       "  merchandise     device          time country               ip  \\\n",
       "0  home goods    phone35  9.759489e+15      ke    82.34.177.248   \n",
       "1  home goods  phone1004  9.760249e+15      zm   202.130.71.167   \n",
       "2  home goods     phone4  9.762261e+15      ke     22.54.76.225   \n",
       "3  home goods     phone4  9.762431e+15      ke    32.13.237.126   \n",
       "4  home goods     phone4  9.762789e+15      ke  202.236.188.240   \n",
       "\n",
       "               url  \n",
       "0  vasstdc27m7nks3  \n",
       "1  vasstdc27m7nks3  \n",
       "2  vasstdc27m7nks3  \n",
       "3  vasstdc27m7nks3  \n",
       "4  vasstdc27m7nks3  "
      ]
     },
     "execution_count": 6,
     "metadata": {},
     "output_type": "execute_result"
    }
   ],
   "source": [
    "data = pd.read_csv(\"bid.csv\")\n",
    "data.head()"
   ]
  },
  {
   "cell_type": "markdown",
   "metadata": {},
   "source": [
    "### Data Clean: checking missing value"
   ]
  },
  {
   "cell_type": "code",
   "execution_count": 6,
   "metadata": {},
   "outputs": [
    {
     "data": {
      "text/plain": [
       "Unnamed: 0         False\n",
       "bidder_id          False\n",
       "payment_account    False\n",
       "address            False\n",
       "outcome            False\n",
       "bid_id              True\n",
       "auction             True\n",
       "merchandise         True\n",
       "device              True\n",
       "time                True\n",
       "country             True\n",
       "ip                  True\n",
       "url                 True\n",
       "dtype: bool"
      ]
     },
     "execution_count": 6,
     "metadata": {},
     "output_type": "execute_result"
    }
   ],
   "source": [
    "pd.isnull(data).any()"
   ]
  },
  {
   "cell_type": "code",
   "execution_count": 8,
   "metadata": {},
   "outputs": [
    {
     "data": {
      "text/plain": [
       "29"
      ]
     },
     "execution_count": 8,
     "metadata": {},
     "output_type": "execute_result"
    }
   ],
   "source": [
    "nobids_train = data[pd.isnull(data['bid_id'])]['bidder_id'].unique()\n",
    "len(nobids_train)"
   ]
  },
  {
   "cell_type": "code",
   "execution_count": 12,
   "metadata": {},
   "outputs": [
    {
     "data": {
      "text/plain": [
       "49      0.0\n",
       "88      0.0\n",
       "175     0.0\n",
       "236     0.0\n",
       "262     0.0\n",
       "271     0.0\n",
       "299     0.0\n",
       "305     0.0\n",
       "339     0.0\n",
       "364     0.0\n",
       "620     0.0\n",
       "633     0.0\n",
       "741     0.0\n",
       "750     0.0\n",
       "773     0.0\n",
       "808     0.0\n",
       "908     0.0\n",
       "997     0.0\n",
       "1026    0.0\n",
       "1052    0.0\n",
       "1135    0.0\n",
       "1149    0.0\n",
       "1304    0.0\n",
       "1496    0.0\n",
       "1511    0.0\n",
       "1551    0.0\n",
       "1633    0.0\n",
       "1729    0.0\n",
       "1909    0.0\n",
       "Name: outcome, dtype: float64"
      ]
     },
     "execution_count": 12,
     "metadata": {},
     "output_type": "execute_result"
    }
   ],
   "source": [
    "train[train['bidder_id'].isin(nobids_train)]['outcome']"
   ]
  },
  {
   "cell_type": "markdown",
   "metadata": {},
   "source": [
    "**There exist 29 bidders in bidder data set having no bid data. Since we aim to detect each bid whether a robot or human, we won't consider this data, and will just ignore them.**"
   ]
  },
  {
   "cell_type": "code",
   "execution_count": 9,
   "metadata": {},
   "outputs": [],
   "source": [
    "# for all the missing value observation, drop it\n",
    "bid = data[~data['bidder_id'].isin(nobids_train)]"
   ]
  },
  {
   "cell_type": "code",
   "execution_count": 17,
   "metadata": {},
   "outputs": [
    {
     "data": {
      "text/plain": [
       "Unnamed: 0         False\n",
       "bidder_id          False\n",
       "payment_account    False\n",
       "address            False\n",
       "outcome            False\n",
       "bid_id             False\n",
       "auction            False\n",
       "merchandise        False\n",
       "device             False\n",
       "time               False\n",
       "country             True\n",
       "ip                 False\n",
       "url                False\n",
       "dtype: bool"
      ]
     },
     "execution_count": 17,
     "metadata": {},
     "output_type": "execute_result"
    }
   ],
   "source": [
    "pd.isnull(bid).any()"
   ]
  },
  {
   "cell_type": "code",
   "execution_count": 24,
   "metadata": {},
   "outputs": [
    {
     "data": {
      "text/plain": [
       "0.08794539245590682"
      ]
     },
     "execution_count": 24,
     "metadata": {},
     "output_type": "execute_result"
    }
   ],
   "source": [
    "pd.isnull(bid['country']).sum()/len(bid)*100"
   ]
  },
  {
   "cell_type": "markdown",
   "metadata": {},
   "source": [
    "**For the full data set, there are only few of observations (0.088%) missing country entry. We will just ignore the missing country entry data.**"
   ]
  },
  {
   "cell_type": "code",
   "execution_count": 10,
   "metadata": {},
   "outputs": [],
   "source": [
    "# for all the missing value observation, drop it\n",
    "bid = bid.dropna()"
   ]
  },
  {
   "cell_type": "code",
   "execution_count": 19,
   "metadata": {},
   "outputs": [
    {
     "data": {
      "text/plain": [
       "Unnamed: 0         False\n",
       "bidder_id          False\n",
       "payment_account    False\n",
       "address            False\n",
       "outcome            False\n",
       "bid_id             False\n",
       "auction            False\n",
       "merchandise        False\n",
       "device             False\n",
       "time               False\n",
       "country            False\n",
       "ip                 False\n",
       "url                False\n",
       "dtype: bool"
      ]
     },
     "execution_count": 19,
     "metadata": {},
     "output_type": "execute_result"
    }
   ],
   "source": [
    "pd.isnull(bid).any()"
   ]
  },
  {
   "cell_type": "markdown",
   "metadata": {},
   "source": [
    "### Data Exploration"
   ]
  },
  {
   "cell_type": "code",
   "execution_count": 15,
   "metadata": {},
   "outputs": [
    {
     "name": "stdout",
     "output_type": "stream",
     "text": [
      "total row in bid:          3068523\n",
      "total bids in bid:         3068523\n",
      "total bidder in bids:      1983\n",
      "total payment in bids:     1983\n",
      "total address in bids:     1983\n",
      "total auction in bids:     12740\n",
      "total merchandise in bids: 10\n",
      "total device in bids:      5726\n",
      "total country in bids:     198\n",
      "total ip in bids:          1028810\n",
      "total url in bids:         663265\n"
     ]
    }
   ],
   "source": [
    "print(f\"total row in bid:          {len(bid)}\")\n",
    "print(f\"total bids in bid:         {len(bid['bid_id'].unique())}\")\n",
    "print(f\"total bidder in bids:      {len(bid['bidder_id'].unique())}\")\n",
    "print(f\"total payment in bids:     {len(bid['payment_account'].unique())}\")\n",
    "print(f\"total address in bids:     {len(bid['address'].unique())}\")\n",
    "print(f\"total auction in bids:     {len(bid['auction'].unique())}\")\n",
    "print(f\"total merchandise in bids: {len(bid['merchandise'].unique())}\")\n",
    "print(f\"total device in bids:      {len(bid['device'].unique())}\")\n",
    "print(f\"total country in bids:     {len(bid['country'].unique())}\")\n",
    "print(f\"total ip in bids:          {len(bid['ip'].unique())}\")\n",
    "print(f\"total url in bids:         {len(bid['url'].unique())}\")"
   ]
  },
  {
   "cell_type": "markdown",
   "metadata": {},
   "source": [
    "**From this output, we can see the payment and address is one-to-one correspondence, we can igonre these two features.**"
   ]
  },
  {
   "cell_type": "code",
   "execution_count": 16,
   "metadata": {},
   "outputs": [
    {
     "name": "stdout",
     "output_type": "stream",
     "text": [
      "total bids made by robot in train set: 412153\n",
      "total bids made by human in train set:  2656370\n"
     ]
    }
   ],
   "source": [
    "print(f\"total bids made by robot in data set: {len(bid[bid['outcome'] == 1])}\")\n",
    "print(f\"total bids made by human in data set:  {len(bid[bid['outcome'] == 0])}\")"
   ]
  },
  {
   "cell_type": "markdown",
   "metadata": {},
   "source": [
    "**These trainning data set has unbalanced number of robots and human, we need to do undersampling before training the model.**"
   ]
  },
  {
   "cell_type": "code",
   "execution_count": null,
   "metadata": {},
   "outputs": [],
   "source": []
  },
  {
   "cell_type": "code",
   "execution_count": null,
   "metadata": {},
   "outputs": [],
   "source": []
  },
  {
   "cell_type": "code",
   "execution_count": null,
   "metadata": {},
   "outputs": [],
   "source": []
  },
  {
   "cell_type": "markdown",
   "metadata": {},
   "source": [
    "### Feature Creation"
   ]
  },
  {
   "cell_type": "code",
   "execution_count": 11,
   "metadata": {},
   "outputs": [],
   "source": [
    "# bidding time difference per user (bidder_id) \n",
    "bid = bid.sort_values(by=['time'])\n",
    "bid['timediffs'] = bid.groupby('bidder_id')['time'].transform(pd.Series.diff)\n",
    "\n",
    "# number of bids a user made per auction\n",
    "bids_per_auction  = bid.groupby(['auction','bidder_id']).size()\n",
    "bids_per_auction = bids_per_auction.to_frame()\n",
    "\n",
    "# proportion of bots for each country\n",
    "pbots_country = bid[bid['outcome'] == 1].groupby('country').size()/bid.groupby('country').size() \n",
    "pbots_country = pbots_country.fillna(0)\n",
    "pbots_country = pbots_country.to_frame()\n",
    "\n",
    "# proportion of bots per device\n",
    "pbots_device = bid[bid['outcome'] == 1].groupby('device').size()/bid.groupby('device').size()\n",
    "pbots_device = pbots_device.fillna(0)\n",
    "pbots_device = pbots_device.to_frame()\n",
    "\n",
    "# number of unique ip to number of bids ratio\n",
    "ip_bids_ratio = bid.groupby('bidder_id')['ip'].nunique()/bid.groupby('bidder_id')['bid_id'].nunique()\n",
    "ip_bids_ratio = ip_bids_ratio.to_frame()\n",
    "\n",
    "# mean per auction url entropy for each user\n",
    "# Input a pandas series \n",
    "def ent(data):\n",
    "    p_data= data.value_counts()/len(data) # calculates the probabilities\n",
    "    entropy=scipy.stats.entropy(p_data)  # input probabilities to get the entropy \n",
    "    return entropy\n",
    "\n",
    "auction_url_entropy = bid.groupby(['auction','bidder_id'])['url'].apply(ent)\n",
    "auction_url_entropy = auction_url_entropy.groupby('bidder_id').mean().reset_index()"
   ]
  },
  {
   "cell_type": "code",
   "execution_count": 12,
   "metadata": {},
   "outputs": [],
   "source": [
    "# merge the features back\n",
    "bid = pd.merge(bid,bids_per_auction, on=['auction','bidder_id'],how='left')\n",
    "bid = pd.merge(bid,pbots_country, on='country',how='left')\n",
    "bid = pd.merge(bid,pbots_device, on='device',how='left')\n",
    "bid = pd.merge(bid,ip_bids_ratio, on='bidder_id',how='left')\n",
    "bid = pd.merge(bid,auction_url_entropy,on='bidder_id',how='left')\n",
    "# set column names \n",
    "bid.columns = ['Unnamed: 0', 'bidder_id', 'payment_account', 'address', 'outcome',\n",
    "       'bid_id', 'auction', 'merchandise', 'device', 'time', 'country',\n",
    "       'ip', 'url', 'timediffs', 'bids_per_auction', 'pbots_country', 'pbots_device', \n",
    "               'ip_bids_ratio','auction_url_entropy']"
   ]
  },
  {
   "cell_type": "markdown",
   "metadata": {},
   "source": [
    "### Feature visualization"
   ]
  },
  {
   "cell_type": "code",
   "execution_count": 13,
   "metadata": {},
   "outputs": [
    {
     "name": "stderr",
     "output_type": "stream",
     "text": [
      "/Users/crystal/anaconda3/envs/ml/lib/python3.6/site-packages/scipy/stats/stats.py:1713: FutureWarning: Using a non-tuple sequence for multidimensional indexing is deprecated; use `arr[tuple(seq)]` instead of `arr[seq]`. In the future this will be interpreted as an array index, `arr[np.array(seq)]`, which will result either in an error or a different result.\n",
      "  return np.add.reduce(sorted[indexer] * weights, axis=axis) / sumval\n",
      "/Users/crystal/anaconda3/envs/ml/lib/python3.6/site-packages/statsmodels/nonparametric/kde.py:448: RuntimeWarning: invalid value encountered in greater\n",
      "  X = X[np.logical_and(X > clip[0], X < clip[1])] # won't work for two columns.\n",
      "/Users/crystal/anaconda3/envs/ml/lib/python3.6/site-packages/statsmodels/nonparametric/kde.py:448: RuntimeWarning: invalid value encountered in less\n",
      "  X = X[np.logical_and(X > clip[0], X < clip[1])] # won't work for two columns.\n"
     ]
    },
    {
     "data": {
      "image/png": "[encoded data removed]",
      "text/plain": [
       "<Figure size 1008x432 with 6 Axes>"
      ]
     },
     "metadata": {
      "needs_background": "light"
     },
     "output_type": "display_data"
    }
   ],
   "source": [
    "bots = bid.loc[bid.outcome==1]\n",
    "human = bid.loc[bid.outcome==0]\n",
    "\n",
    "fig, axes = plt.subplots(2, 3, figsize=(14, 6), sharex=False)\n",
    "sns.distplot(bots['bids_per_auction'], hist=False, kde=True, \n",
    "             bins=int(180/5), color = 'darkblue',\n",
    "             kde_kws={'linewidth': 1.5}, ax=axes[0, 0])\n",
    "sns.distplot(human['bids_per_auction'], hist=False, kde=True, \n",
    "             bins=int(180/5), color = 'darkred', \n",
    "             kde_kws={'linewidth': 1.5}, ax=axes[0, 0])\n",
    "\n",
    "sns.distplot(bots['pbots_country'], hist=False, kde=True, \n",
    "             bins=int(180/5), color = 'darkblue', \n",
    "             kde_kws={'linewidth': 1.5},ax=axes[0, 1])\n",
    "sns.distplot(human['pbots_country'], hist=False, kde=True, \n",
    "             bins=int(180/5), color = 'darkred', \n",
    "             kde_kws={'linewidth': 1.5},ax=axes[0,1])\n",
    "\n",
    "sns.distplot(bots['pbots_device'], hist=False, kde=True, \n",
    "             bins=int(180/5), color = 'darkblue', label = 'bots',\n",
    "             kde_kws={'linewidth': 1.5},ax=axes[0,2])\n",
    "sns.distplot(human['pbots_device'], hist=False, kde=True, \n",
    "             bins=int(180/5), color = 'darkred', label = 'human',\n",
    "             kde_kws={'linewidth': 1.5},ax=axes[0,2])\n",
    "\n",
    "sns.distplot(bots['ip_bids_ratio'], hist=False, kde=True, \n",
    "             bins=int(180/5), color = 'darkblue', \n",
    "             kde_kws={'linewidth': 1.5},ax=axes[1,0])\n",
    "sns.distplot(human['ip_bids_ratio'], hist=False, kde=True, \n",
    "             bins=int(180/5), color = 'darkred', \n",
    "             kde_kws={'linewidth': 1.5},ax=axes[1,0])\n",
    "\n",
    "sns.distplot(bots['auction_url_entropy'], hist=False, kde=True, \n",
    "             bins=int(180/5), color = 'darkblue', \n",
    "             kde_kws={'linewidth': 1.5},ax=axes[1,1])\n",
    "sns.distplot(human['auction_url_entropy'], hist=False, kde=True, \n",
    "             bins=int(180/5), color = 'darkred', \n",
    "             kde_kws={'linewidth': 1.5},ax=axes[1,1])\n",
    "\n",
    "sns.distplot(bots['timediffs'], hist=False, kde=True, \n",
    "             bins=int(180/5), color = 'darkblue', \n",
    "             kde_kws={'linewidth': 1.5},ax=axes[1,2])\n",
    "sns.distplot(human['timediffs'], hist=False, kde=True, \n",
    "             bins=int(180/5), color = 'darkred', \n",
    "             kde_kws={'linewidth': 1.5},ax=axes[1,2])\n",
    "plt.legend(['bots','human'])\n",
    "plt.show()"
   ]
  },
  {
   "cell_type": "code",
   "execution_count": 14,
   "metadata": {},
   "outputs": [
    {
     "data": {
      "text/plain": [
       "<matplotlib.axes._subplots.AxesSubplot at 0x101f7d358>"
      ]
     },
     "execution_count": 14,
     "metadata": {},
     "output_type": "execute_result"
    },
    {
     "data": {
      "image/png": "[encoded data removed]",
      "text/plain": [
       "<Figure size 432x288 with 2 Axes>"
      ]
     },
     "metadata": {
      "needs_background": "light"
     },
     "output_type": "display_data"
    }
   ],
   "source": [
    "corr_matrix = bid.corr()\n",
    "## Plot the correlation matrix for the numerical values\n",
    "sns.heatmap(corr_matrix.corr(), \n",
    "        xticklabels=corr_matrix.corr().columns,\n",
    "        yticklabels=corr_matrix.corr().columns,\n",
    "           cmap=\"Blues\",\n",
    "           fmt='d')"
   ]
  },
  {
   "cell_type": "code",
   "execution_count": null,
   "metadata": {},
   "outputs": [],
   "source": [
    "# add some interpretation about the above two plots \n",
    "# and justify why we need to ignore the variable timediff"
   ]
  },
  {
   "cell_type": "markdown",
   "metadata": {},
   "source": [
    "Fit scikit-learn model\n",
    "----"
   ]
  },
  {
   "cell_type": "markdown",
   "metadata": {},
   "source": [
    "### Split Train and Test set"
   ]
  },
  {
   "cell_type": "code",
   "execution_count": 16,
   "metadata": {},
   "outputs": [],
   "source": [
    "y = bid['outcome']\n",
    "#X = bid_balance.iloc[:,-6:]\n",
    "X = bid.iloc[:,-5:]\n",
    "bid_train, bid_test= train_test_split(bid, test_size=0.2)"
   ]
  },
  {
   "cell_type": "markdown",
   "metadata": {},
   "source": [
    "### Under Sampling"
   ]
  },
  {
   "cell_type": "code",
   "execution_count": 17,
   "metadata": {},
   "outputs": [],
   "source": [
    "bots_train = bid_train.loc[bid_train.outcome == 1]\n",
    "human_train = bid_train.loc[bid_train.outcome == 0]\n",
    "human_sample = human_train.sample(n=len(bots_train))\n",
    "bid_train_balance = pd.concat([bots_train,human_sample])\n",
    "\n",
    "y_train = bid_train_balance['outcome']\n",
    "X_train = bid_train_balance.iloc[:,-5:]\n",
    "y_test = bid_test['outcome']\n",
    "X_test = bid_test.iloc[:,-5:]"
   ]
  },
  {
   "cell_type": "markdown",
   "metadata": {},
   "source": [
    "### First Model : Decision Tree"
   ]
  },
  {
   "cell_type": "code",
   "execution_count": null,
   "metadata": {},
   "outputs": [],
   "source": [
    "# Grid Search for hyperparameter of decision tree\n",
    "clf = tree.DecisionTreeClassifier()\n",
    "param_grid = { \n",
    "    'criterion': ['gini', 'entropy'],\n",
    "    'max_depth' : range(3,6),\n",
    "    'max_leaf_nodes':range(10,15),\n",
    "    'min_samples_split':range(2,6)\n",
    "}\n",
    "\n",
    "clf_cv = GridSearchCV(estimator=clf, \n",
    "                      param_grid=param_grid, \n",
    "                      cv=5)\n",
    "clf_cv.fit(X_train, y_train)\n",
    "print(clf_cv.best_params_)"
   ]
  },
  {
   "cell_type": "code",
   "execution_count": null,
   "metadata": {},
   "outputs": [],
   "source": [
    "# fit the model with best parameters\n",
    "# Decision Tree\n",
    "kwargs_regularize = dict(criterion='gini',\n",
    "                         max_depth = 5,\n",
    "                         max_leaf_nodes=14, \n",
    "                         min_samples_split=2)\n",
    "clf = tree.DecisionTreeClassifier(**kwargs_regularize)\n",
    "clf.fit(X_train,y_train)"
   ]
  },
  {
   "cell_type": "markdown",
   "metadata": {},
   "source": [
    "### Tree Visualization"
   ]
  },
  {
   "cell_type": "code",
   "execution_count": null,
   "metadata": {},
   "outputs": [],
   "source": [
    "dot_data = StringIO()\n",
    "tree.export_graphviz(clf, out_file=dot_data, \n",
    "                         filled=True, rounded=True,\n",
    "                     feature_names=X.columns.values,\n",
    "                     class_names = ['human','bot'],\n",
    "                         special_characters=True)  \n",
    "graph = pydotplus.graph_from_dot_data(dot_data.getvalue())  \n",
    "Image(graph.create_png())"
   ]
  },
  {
   "cell_type": "code",
   "execution_count": null,
   "metadata": {},
   "outputs": [],
   "source": [
    "graph.write_png(\"tree.png\")"
   ]
  },
  {
   "cell_type": "markdown",
   "metadata": {},
   "source": [
    "Evaluation Metric\n",
    "----"
   ]
  },
  {
   "cell_type": "code",
   "execution_count": null,
   "metadata": {},
   "outputs": [],
   "source": [
    "# predict\n",
    "y_dt_pred = clf.predict(X_test)\n",
    "y_dt_score = clf.predict_proba(X_test)[:,1]"
   ]
  },
  {
   "cell_type": "markdown",
   "metadata": {},
   "source": [
    "### Accuracy"
   ]
  },
  {
   "cell_type": "code",
   "execution_count": null,
   "metadata": {},
   "outputs": [],
   "source": [
    "# accuracy score\n",
    "print(f\"Decision Tree Accuracy: {accuracy_score(y_dt_pred, y_test):.3f}\")"
   ]
  },
  {
   "cell_type": "markdown",
   "metadata": {},
   "source": [
    "### Pecision vs Recall"
   ]
  },
  {
   "cell_type": "code",
   "execution_count": null,
   "metadata": {},
   "outputs": [],
   "source": [
    "print(classification_report(y_test,y_gb_pred))"
   ]
  },
  {
   "cell_type": "markdown",
   "metadata": {},
   "source": [
    "### AUC"
   ]
  },
  {
   "cell_type": "code",
   "execution_count": null,
   "metadata": {},
   "outputs": [],
   "source": [
    "print('Classification Report of Model 1 Decision Tree')\n",
    "print(classification_report(y_test, y_dt_pred))"
   ]
  },
  {
   "cell_type": "code",
   "execution_count": null,
   "metadata": {},
   "outputs": [],
   "source": [
    "# Plot ROC in one graph\n",
    "fpr_dt, tpr_dt, _dt = roc_curve(y_test, y_dt_score)\n",
    "roc_dt_auc = auc(fpr_dt, tpr_dt)\n",
    "\n",
    "plt.figure(figsize=(5,5))\n",
    "plt.plot(fpr_dt, tpr_dt, label='DT ROC curve (area = %0.2f)' % roc_dt_auc)\n",
    "plt.plot([0, 1], [0, 1], 'k--')\n",
    "plt.xlim([0.0, 1.0])\n",
    "plt.ylim([0.0, 1.005])\n",
    "plt.xlabel('False Positive Rate')\n",
    "plt.ylabel('True Positive Rate')\n",
    "plt.title('Receiver operating characteristic')\n",
    "plt.legend(loc=\"lower right\")\n",
    "plt.show()"
   ]
  },
  {
   "cell_type": "markdown",
   "metadata": {},
   "source": [
    "## Gradient Boosting"
   ]
  },
  {
   "cell_type": "code",
   "execution_count": null,
   "metadata": {},
   "outputs": [],
   "source": [
    "# grid search\n",
    "gb = GradientBoostingClassifier(n_estimators=10)\n",
    "param_grid = { \n",
    "    'max_depth': range(3,6),\n",
    "    'max_leaf_nodes' : range(8,11)\n",
    "}\n",
    "\n",
    "gb_cv = GridSearchCV(estimator=gb, \n",
    "                      param_grid=param_grid, \n",
    "                      cv=5)\n",
    "gb_cv.fit(X_train, y_train)\n",
    "print(gb_cv.best_params_)"
   ]
  },
  {
   "cell_type": "code",
   "execution_count": null,
   "metadata": {},
   "outputs": [],
   "source": [
    "gb = GradientBoostingClassifier(n_estimators=100,max_depth=5,max_features='sqrt',\n",
    "                                 max_leaf_nodes=9)\n",
    "gb.fit(X_train, y_train)"
   ]
  },
  {
   "cell_type": "markdown",
   "metadata": {},
   "source": [
    "Evaluation Metric\n",
    "----"
   ]
  },
  {
   "cell_type": "code",
   "execution_count": null,
   "metadata": {},
   "outputs": [],
   "source": [
    "y_gb_pred = gb.predict(X_test)"
   ]
  },
  {
   "cell_type": "markdown",
   "metadata": {},
   "source": [
    "### Accuracy"
   ]
  },
  {
   "cell_type": "code",
   "execution_count": null,
   "metadata": {},
   "outputs": [],
   "source": [
    "print(f\"Gradient Boosting Accuracy: {accuracy_score(y_gb_pred, y_test):.3f}\")"
   ]
  },
  {
   "cell_type": "markdown",
   "metadata": {},
   "source": [
    "### Precision vs Recall"
   ]
  },
  {
   "cell_type": "code",
   "execution_count": null,
   "metadata": {},
   "outputs": [],
   "source": [
    "print(classification_report(y_test,y_gb_pred))"
   ]
  },
  {
   "cell_type": "markdown",
   "metadata": {},
   "source": [
    "### AUC"
   ]
  },
  {
   "cell_type": "code",
   "execution_count": null,
   "metadata": {},
   "outputs": [],
   "source": [
    "# Plot ROC in one graph\n",
    "y_gb_score = gb.predict_proba(X_test)[:,1]\n",
    "fpr_gb, tpr_gb, _gb = roc_curve(y_test, y_gb_score)\n",
    "roc_gb_auc = auc(fpr_gb, tpr_gb)\n",
    "\n",
    "plt.figure(figsize=(5,5))\n",
    "plt.plot(fpr_gb, tpr_gb, label='DT ROC curve (area = %0.2f)' % roc_gb_auc)\n",
    "plt.plot([0, 1], [0, 1], 'k--')\n",
    "plt.xlim([0.0, 1.0])\n",
    "plt.ylim([0.0, 1.005])\n",
    "plt.xlabel('False Positive Rate')\n",
    "plt.ylabel('True Positive Rate')\n",
    "plt.title('Receiver operating characteristic')\n",
    "plt.legend(loc=\"lower right\")\n",
    "plt.show()\n",
    "fig.savefig('roc_gb_auc.png')"
   ]
  },
  {
   "cell_type": "markdown",
   "metadata": {},
   "source": [
    "## Random Forest"
   ]
  },
  {
   "cell_type": "code",
   "execution_count": null,
   "metadata": {},
   "outputs": [],
   "source": [
    "# grid search\n",
    "rf= RandomForestClassifier(n_estimators=50)\n",
    "param_grid = { \n",
    "    'max_depth': range(3,6),\n",
    "    'max_leaf_nodes' : range(8,12),\n",
    "    'max_features':['sqrt','auto','log2']\n",
    "}\n",
    "\n",
    "rf_cv = GridSearchCV(estimator=rf, \n",
    "                      param_grid=param_grid, \n",
    "                      cv=5)\n",
    "rf_cv.fit(X_train, y_train)\n",
    "print(rf_cv.best_params_)"
   ]
  },
  {
   "cell_type": "code",
   "execution_count": null,
   "metadata": {},
   "outputs": [],
   "source": [
    "rf= RandomForestClassifier(n_estimators=100,max_depth=5,\n",
    "                           max_leaf_nodes=11,max_features='log2', \n",
    "                                bootstrap=True,oob_score=True)\n",
    "rf.fit(X_train, y_train)"
   ]
  },
  {
   "cell_type": "markdown",
   "metadata": {},
   "source": [
    "## Evaluation Metric"
   ]
  },
  {
   "cell_type": "code",
   "execution_count": null,
   "metadata": {},
   "outputs": [],
   "source": [
    "y_rf_pred = rf.predict(X_test)"
   ]
  },
  {
   "cell_type": "markdown",
   "metadata": {},
   "source": [
    "### Accuracy"
   ]
  },
  {
   "cell_type": "code",
   "execution_count": null,
   "metadata": {},
   "outputs": [],
   "source": [
    "print(f\"Decision Tree Accuracy: {accuracy_score(y_rf_pred, y_test):.3f}\")"
   ]
  },
  {
   "cell_type": "markdown",
   "metadata": {},
   "source": [
    "### Precision vs Recall"
   ]
  },
  {
   "cell_type": "code",
   "execution_count": null,
   "metadata": {},
   "outputs": [],
   "source": [
    "print(classification_report(y_test,y_rf_pred))"
   ]
  },
  {
   "cell_type": "markdown",
   "metadata": {},
   "source": [
    "### AUC"
   ]
  },
  {
   "cell_type": "code",
   "execution_count": null,
   "metadata": {},
   "outputs": [],
   "source": [
    "# Plot ROC in one graph\n",
    "y_rf_score = rf.predict_proba(X_test)[:,1]\n",
    "fpr_rf, tpr_rf, _rf = roc_curve(y_test, y_rf_score)\n",
    "roc_rf_auc = auc(fpr_rf, tpr_rf)\n",
    "\n",
    "plt.figure(figsize=(5,5))\n",
    "plt.plot(fpr_rf, tpr_rf, label='DT ROC curve (area = %0.2f)' % roc_rf_auc)\n",
    "plt.plot([0, 1], [0, 1], 'k--')\n",
    "plt.xlim([0.0, 1.0])\n",
    "plt.ylim([0.0, 1.005])\n",
    "plt.xlabel('False Positive Rate')\n",
    "plt.ylabel('True Positive Rate')\n",
    "plt.title('Receiver operating characteristic')\n",
    "plt.legend(loc=\"lower right\")\n",
    "plt.show()\n",
    "fig.savefig('roc_rf_auc.png')"
   ]
  },
  {
   "cell_type": "markdown",
   "metadata": {},
   "source": [
    "## Compare Different Models"
   ]
  },
  {
   "cell_type": "code",
   "execution_count": null,
   "metadata": {},
   "outputs": [],
   "source": [
    "dt_metrics = [metrics.accuracy_score(y_test,y_dt_pred),metrics.precision_score(y_test,y_dt_pred),\n",
    "     metrics.recall_score(y_test,y_dt_pred),metrics.f1_score(y_test,y_dt_pred),\n",
    "     metrics.roc_auc_score(y_test,y_dt_pred)]\n",
    "rf_metrics = [metrics.accuracy_score(y_test,y_rf_pred),metrics.precision_score(y_test,y_rf_pred),\n",
    "     metrics.recall_score(y_test,y_rf_pred),metrics.f1_score(y_test,y_rf_pred),\n",
    "     metrics.roc_auc_score(y_test,y_rf_pred)]\n",
    "gb_metrics = [metrics.accuracy_score(y_test,y_gb_pred),metrics.precision_score(y_test,y_gb_pred),\n",
    "     metrics.recall_score(y_test,y_gb_pred),metrics.f1_score(y_test,y_gb_pred),\n",
    "     metrics.roc_auc_score(y_test,y_gb_pred)]"
   ]
  },
  {
   "cell_type": "code",
   "execution_count": null,
   "metadata": {},
   "outputs": [],
   "source": [
    "fig, ax = plt.subplots()\n",
    "index = np.arange(5)\n",
    "width = 0.3\n",
    "b1 = plt.bar(index, dt_metrics, width, alpha=0.4, color='grey', label='decision tree')\n",
    "b2 = plt.bar(index+width, rf_metrics, width, alpha=0.6, color='powderblue', label='random forest')\n",
    "b3 = plt.bar(index+2*width, gb_metrics, width, alpha=0.6, color='pink', label='gradient boosting')\n",
    "plt.title('Model Comparison')\n",
    "plt.ylabel('score')\n",
    "plt.xticks(index+width,('accuracy','precision','recall','F1','ROC AUC'))\n",
    "plt.legend(loc=8,ncol=3, mode=\"expand\", borderaxespad=0.)\n",
    "plt.show()\n",
    "fig.savefig('model_comparison.png')"
   ]
  },
  {
   "cell_type": "code",
   "execution_count": null,
   "metadata": {},
   "outputs": [],
   "source": []
  },
  {
   "cell_type": "code",
   "execution_count": null,
   "metadata": {},
   "outputs": [],
   "source": []
  },
  {
   "cell_type": "code",
   "execution_count": null,
   "metadata": {},
   "outputs": [],
   "source": []
  },
  {
   "cell_type": "code",
   "execution_count": null,
   "metadata": {},
   "outputs": [],
   "source": []
  }
 ],
 "metadata": {
  "kernelspec": {
   "display_name": "Python 3",
   "language": "python",
   "name": "python3"
  },
  "language_info": {
   "codemirror_mode": {
    "name": "ipython",
    "version": 3
   },
   "file_extension": ".py",
   "mimetype": "text/x-python",
   "name": "python",
   "nbconvert_exporter": "python",
   "pygments_lexer": "ipython3",
   "version": "3.6.6"
  },
  "toc": {
   "base_numbering": 1,
   "nav_menu": {},
   "number_sections": true,
   "sideBar": true,
   "skip_h1_title": false,
   "title_cell": "Table of Contents",
   "title_sidebar": "Contents",
   "toc_cell": false,
   "toc_position": {},
   "toc_section_display": true,
   "toc_window_display": false
  }
 },
 "nbformat": 4,
 "nbformat_minor": 2
}
